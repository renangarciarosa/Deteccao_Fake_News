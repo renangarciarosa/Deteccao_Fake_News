{
  "nbformat": 4,
  "nbformat_minor": 0,
  "metadata": {
    "colab": {
      "name": "FakeNewsDetection.ipynb",
      "provenance": [],
      "mount_file_id": "1F4ukROfgQ7RCr5d2QyjS7ks3eNcx1rXP",
      "authorship_tag": "ABX9TyOYR3plxJXBKT4NwlBN/W7C"
    },
    "kernelspec": {
      "name": "python3",
      "display_name": "Python 3"
    },
    "language_info": {
      "name": "python"
    },
    "accelerator": "GPU"
  },
  "cells": [
    {
      "cell_type": "markdown",
      "metadata": {
        "id": "i57_CyN6-Ssd"
      },
      "source": [
        "**Detectando notícias falsas com Python**\n",
        "\n",
        "---\n",
        "\n",
        "\n",
        "\n",
        "Para construir um modelo para classificar com precisão uma notícia como REAL ou FALSIFICADA.\n",
        "\n",
        "**Sobre a detecção de notícias falsas com Python**\n",
        "\n",
        "---\n",
        "\n",
        "\n",
        "Este projeto Python avançado de detecção de notícias falsas lida com notícias falsas e reais. Usando sklearn, construímos um TfidfVectorizer em nosso conjunto de dados. Em seguida, inicializamos um Classificador PassiveAggressive e ajustamos o modelo. No final, a pontuação de precisão e a matriz de confusão nos dizem o quão bem nosso modelo se sai.\n",
        "\n",
        "**O conjunto de dados de notícias falsas**\n",
        "\n",
        "---\n",
        "\n",
        "\n",
        "O conjunto de dados que usaremos para este projeto Python - vamos chamá-lo de news.csv. Este conjunto de dados tem o formato de 7796 × 4. A primeira coluna identifica a notícia, a segunda e a terceira são o título e o texto, e a quarta coluna possui rótulos que indicam se a notícia é REAL ou FALSIFICADA. "
      ]
    },
    {
      "cell_type": "code",
      "metadata": {
        "id": "8zts36YL9vu-"
      },
      "source": [
        "import numpy as np\n",
        "import pandas as pd\n",
        "import itertools\n",
        "from sklearn.model_selection import train_test_split\n",
        "from sklearn.feature_extraction.text import TfidfVectorizer\n",
        "from sklearn.linear_model import PassiveAggressiveClassifier\n",
        "from sklearn.metrics import accuracy_score, confusion_matrix\n",
        "import seaborn as sns\n",
        "import matplotlib.pyplot as plt"
      ],
      "execution_count": null,
      "outputs": []
    },
    {
      "cell_type": "code",
      "metadata": {
        "colab": {
          "base_uri": "https://localhost:8080/",
          "height": 204
        },
        "id": "yu8bQChx-41E",
        "outputId": "30f8bf24-fd48-4ff8-e984-45ee63f2730b"
      },
      "source": [
        "#Leitura dos dados\n",
        "df=pd.read_csv('/content/drive/MyDrive/Projetos Data Science /Deteccao Fake News /news.csv')\n",
        "\n",
        "#obter tamanho do conjunto de dados\n",
        "df.shape\n",
        "df.head()"
      ],
      "execution_count": null,
      "outputs": [
        {
          "output_type": "execute_result",
          "data": {
            "text/html": [
              "<div>\n",
              "<style scoped>\n",
              "    .dataframe tbody tr th:only-of-type {\n",
              "        vertical-align: middle;\n",
              "    }\n",
              "\n",
              "    .dataframe tbody tr th {\n",
              "        vertical-align: top;\n",
              "    }\n",
              "\n",
              "    .dataframe thead th {\n",
              "        text-align: right;\n",
              "    }\n",
              "</style>\n",
              "<table border=\"1\" class=\"dataframe\">\n",
              "  <thead>\n",
              "    <tr style=\"text-align: right;\">\n",
              "      <th></th>\n",
              "      <th>Unnamed: 0</th>\n",
              "      <th>title</th>\n",
              "      <th>text</th>\n",
              "      <th>label</th>\n",
              "    </tr>\n",
              "  </thead>\n",
              "  <tbody>\n",
              "    <tr>\n",
              "      <th>0</th>\n",
              "      <td>8476</td>\n",
              "      <td>You Can Smell Hillary’s Fear</td>\n",
              "      <td>Daniel Greenfield, a Shillman Journalism Fello...</td>\n",
              "      <td>FAKE</td>\n",
              "    </tr>\n",
              "    <tr>\n",
              "      <th>1</th>\n",
              "      <td>10294</td>\n",
              "      <td>Watch The Exact Moment Paul Ryan Committed Pol...</td>\n",
              "      <td>Google Pinterest Digg Linkedin Reddit Stumbleu...</td>\n",
              "      <td>FAKE</td>\n",
              "    </tr>\n",
              "    <tr>\n",
              "      <th>2</th>\n",
              "      <td>3608</td>\n",
              "      <td>Kerry to go to Paris in gesture of sympathy</td>\n",
              "      <td>U.S. Secretary of State John F. Kerry said Mon...</td>\n",
              "      <td>REAL</td>\n",
              "    </tr>\n",
              "    <tr>\n",
              "      <th>3</th>\n",
              "      <td>10142</td>\n",
              "      <td>Bernie supporters on Twitter erupt in anger ag...</td>\n",
              "      <td>— Kaydee King (@KaydeeKing) November 9, 2016 T...</td>\n",
              "      <td>FAKE</td>\n",
              "    </tr>\n",
              "    <tr>\n",
              "      <th>4</th>\n",
              "      <td>875</td>\n",
              "      <td>The Battle of New York: Why This Primary Matters</td>\n",
              "      <td>It's primary day in New York and front-runners...</td>\n",
              "      <td>REAL</td>\n",
              "    </tr>\n",
              "  </tbody>\n",
              "</table>\n",
              "</div>"
            ],
            "text/plain": [
              "   Unnamed: 0  ... label\n",
              "0        8476  ...  FAKE\n",
              "1       10294  ...  FAKE\n",
              "2        3608  ...  REAL\n",
              "3       10142  ...  FAKE\n",
              "4         875  ...  REAL\n",
              "\n",
              "[5 rows x 4 columns]"
            ]
          },
          "metadata": {
            "tags": []
          },
          "execution_count": 16
        }
      ]
    },
    {
      "cell_type": "code",
      "metadata": {
        "colab": {
          "base_uri": "https://localhost:8080/"
        },
        "id": "ZU1ipGQf_e3i",
        "outputId": "177a7b21-ecec-4e2a-cd8c-e00870ecaebc"
      },
      "source": [
        "# - Obtenha os rótulos\n",
        "labels=df.label\n",
        "labels.head()"
      ],
      "execution_count": null,
      "outputs": [
        {
          "output_type": "execute_result",
          "data": {
            "text/plain": [
              "0    FAKE\n",
              "1    FAKE\n",
              "2    REAL\n",
              "3    FAKE\n",
              "4    REAL\n",
              "Name: label, dtype: object"
            ]
          },
          "metadata": {
            "tags": []
          },
          "execution_count": 17
        }
      ]
    },
    {
      "cell_type": "code",
      "metadata": {
        "colab": {
          "base_uri": "https://localhost:8080/"
        },
        "id": "NWj-1KTe_qGx",
        "outputId": "083900e8-2322-4570-841e-ab22192774ad"
      },
      "source": [
        "# - Divida o conjunto de dados\n",
        "x_train,x_test,y_train,y_test=train_test_split(df['text'], labels, test_size=0.2, random_state=7)\n",
        "print(\"[INFO] Tamanho de cada conjunto de dados...\")\n",
        "print(x_train.shape, x_test.shape, y_train.shape, y_test.shape)"
      ],
      "execution_count": null,
      "outputs": [
        {
          "output_type": "stream",
          "text": [
            "[INFO] Tamanho de cada conjunto de dados...\n",
            "(5068,) (1267,) (5068,) (1267,)\n"
          ],
          "name": "stdout"
        }
      ]
    },
    {
      "cell_type": "code",
      "metadata": {
        "id": "xFlZWsnMAO25"
      },
      "source": [
        "# - Inicialize o TfidfVectorizer\n",
        "tfidf_vectorizer=TfidfVectorizer(stop_words='english', max_df=0.7)\n",
        "\n",
        "# -Ajustar e transformar o conjunto de treinamento, transformar o conjunto de teste\n",
        "tfidf_train=tfidf_vectorizer.fit_transform(x_train) \n",
        "tfidf_test=tfidf_vectorizer.transform(x_test)"
      ],
      "execution_count": null,
      "outputs": []
    },
    {
      "cell_type": "code",
      "metadata": {
        "colab": {
          "base_uri": "https://localhost:8080/"
        },
        "id": "BouEGyo8Agro",
        "outputId": "229fbd30-1eed-4b46-8ea6-5f00480e59db"
      },
      "source": [
        "# - Inicialize um PassiveAggressiveClassifier\n",
        "pac=PassiveAggressiveClassifier(max_iter=50)\n",
        "pac.fit(tfidf_train,y_train)\n",
        "\n",
        "# - Preveja no conjunto de teste e calcula a precisão\n",
        "y_pred=pac.predict(tfidf_test)\n",
        "score=accuracy_score(y_test,y_pred)\n",
        "print(f'Accuracy: {round(score*100,2)}%')"
      ],
      "execution_count": null,
      "outputs": [
        {
          "output_type": "stream",
          "text": [
            "Accuracy: 92.82%\n"
          ],
          "name": "stdout"
        }
      ]
    },
    {
      "cell_type": "code",
      "metadata": {
        "colab": {
          "base_uri": "https://localhost:8080/"
        },
        "id": "KwhtmQewCWm3",
        "outputId": "5b2f0b9f-d6e4-4af0-e2c1-7011aa21e173"
      },
      "source": [
        "# - Construir matriz de confusão\n",
        "cm = confusion_matrix(y_test,y_pred, labels=['FAKE','REAL'])\n",
        "print(cm)"
      ],
      "execution_count": null,
      "outputs": [
        {
          "output_type": "stream",
          "text": [
            "[[588  50]\n",
            " [ 41 588]]\n"
          ],
          "name": "stdout"
        }
      ]
    },
    {
      "cell_type": "code",
      "metadata": {
        "colab": {
          "base_uri": "https://localhost:8080/",
          "height": 296
        },
        "id": "M_7xTyVkCyH1",
        "outputId": "e0022e16-98b8-42e7-faea-4066df471d64"
      },
      "source": [
        "ax= plt.subplot()\n",
        "sns.heatmap(cm, annot=True, ax = ax); #annot = True para anotar células\n",
        "\n",
        "# rótulos, título e subrótulos\n",
        "ax.set_xlabel('Rótulos previstos');ax.set_ylabel('Rótulos verdadeiros'); \n",
        "ax.set_title('Matriz de confusão para DETECAO DE FAKE NEWS'); \n",
        "ax.xaxis.set_ticklabels(['FAKE', 'REAL']); ax.yaxis.set_ticklabels(['FAKE', 'REAL']);\n",
        "plt.show()"
      ],
      "execution_count": null,
      "outputs": [
        {
          "output_type": "display_data",
          "data": {
            "image/png": "[encoded data removed]",
            "text/plain": [
              "<Figure size 432x288 with 2 Axes>"
            ]
          },
          "metadata": {
            "tags": [],
            "needs_background": "light"
          }
        }
      ]
    }
  ]
}